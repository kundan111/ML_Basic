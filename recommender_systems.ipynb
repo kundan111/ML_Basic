{
  "nbformat": 4,
  "nbformat_minor": 0,
  "metadata": {
    "colab": {
      "name": "recommender_systems.ipynb",
      "version": "0.3.2",
      "provenance": [],
      "collapsed_sections": [],
      "include_colab_link": true
    },
    "kernelspec": {
      "name": "python3",
      "display_name": "Python 3"
    },
    "accelerator": "GPU"
  },
  "cells": [
    {
      "cell_type": "markdown",
      "metadata": {
        "id": "view-in-github",
        "colab_type": "text"
      },
      "source": [
        "<a href=\"https://colab.research.google.com/github/kundan111/ML_Basic/blob/master/recommender_systems.ipynb\" target=\"_parent\"><img src=\"https://colab.research.google.com/assets/colab-badge.svg\" alt=\"Open In Colab\"/></a>"
      ]
    },
    {
      "metadata": {
        "id": "ZZwi0G9f6VVy",
        "colab_type": "code",
        "colab": {
          "base_uri": "https://localhost:8080/",
          "height": 153
        },
        "outputId": "33c9c6e6-6e97-4a90-b9e6-eece078e15cc"
      },
      "cell_type": "code",
      "source": [
        "!pip install lightfm"
      ],
      "execution_count": 79,
      "outputs": [
        {
          "output_type": "stream",
          "text": [
            "Requirement already satisfied: lightfm in /usr/local/lib/python3.6/dist-packages (1.15)\n",
            "Requirement already satisfied: requests in /usr/local/lib/python3.6/dist-packages (from lightfm) (2.18.4)\n",
            "Requirement already satisfied: numpy in /usr/local/lib/python3.6/dist-packages (from lightfm) (1.14.6)\n",
            "Requirement already satisfied: scipy>=0.17.0 in /usr/local/lib/python3.6/dist-packages (from lightfm) (1.1.0)\n",
            "Requirement already satisfied: idna<2.7,>=2.5 in /usr/local/lib/python3.6/dist-packages (from requests->lightfm) (2.6)\n",
            "Requirement already satisfied: urllib3<1.23,>=1.21.1 in /usr/local/lib/python3.6/dist-packages (from requests->lightfm) (1.22)\n",
            "Requirement already satisfied: certifi>=2017.4.17 in /usr/local/lib/python3.6/dist-packages (from requests->lightfm) (2018.11.29)\n",
            "Requirement already satisfied: chardet<3.1.0,>=3.0.2 in /usr/local/lib/python3.6/dist-packages (from requests->lightfm) (3.0.4)\n"
          ],
          "name": "stdout"
        }
      ]
    },
    {
      "metadata": {
        "id": "Ynip94nm_lXr",
        "colab_type": "text"
      },
      "cell_type": "markdown",
      "source": [
        "**Import dependencies**"
      ]
    },
    {
      "metadata": {
        "id": "yVHgn9o05yDv",
        "colab_type": "code",
        "colab": {}
      },
      "cell_type": "code",
      "source": [
        "from lightfm.datasets import fetch_movielens\n",
        "from lightfm import LightFM\n",
        "data = fetch_movielens(min_rating = 4.0)"
      ],
      "execution_count": 0,
      "outputs": []
    },
    {
      "metadata": {
        "id": "m-QfBRZbzGdd",
        "colab_type": "text"
      },
      "cell_type": "markdown",
      "source": [
        "**Create a model and train it bold text**"
      ]
    },
    {
      "metadata": {
        "id": "ajzSpENe-322",
        "colab_type": "code",
        "colab": {
          "base_uri": "https://localhost:8080/",
          "height": 34
        },
        "outputId": "cc417ce3-53cd-4923-a2ef-aeb47ddcf9c6"
      },
      "cell_type": "code",
      "source": [
        "model = LightFM(loss = 'warp')\n",
        "model.fit(data['train'], epochs=30, num_threads=2)"
      ],
      "execution_count": 81,
      "outputs": [
        {
          "output_type": "execute_result",
          "data": {
            "text/plain": [
              "<lightfm.lightfm.LightFM at 0x7f78a2c2d908>"
            ]
          },
          "metadata": {
            "tags": []
          },
          "execution_count": 81
        }
      ]
    },
    {
      "metadata": {
        "id": "5XnxQW0E--IM",
        "colab_type": "text"
      },
      "cell_type": "markdown",
      "source": [
        "**Recommender class**"
      ]
    },
    {
      "metadata": {
        "id": "IXafydwX-7tm",
        "colab_type": "code",
        "colab": {}
      },
      "cell_type": "code",
      "source": [
        "def sample_recommendation(model, data, user_ids):\n",
        "\n",
        "    #number of users and movies in training data\n",
        "    n_users, n_items = data['train'].shape\n",
        "\n",
        "    #generate recommendations for each user we input\n",
        "    for user_id in user_ids:\n",
        "\n",
        "        #movies they already like\n",
        "        known_positives = data['item_labels'][data['train'].tocsr()[user_id].indices]\n",
        "\n",
        "        #movies our model predicts they will like\n",
        "        #arange: Return evenly spaced values within a given interval.\n",
        "        scores = model.predict(user_id, np.arange(n_items))\n",
        "        #rank them in order of most liked to least\n",
        "        \n",
        "        #argsort: Returns the indices that would sort an array.\n",
        "        \n",
        "        top_items = data['item_labels'][np.argsort(-scores)]\n",
        "\n",
        "        #print out the results\n",
        "        print(\"User %s\" % user_id)\n",
        "        print(\"     Known positives:\")\n",
        "\n",
        "        for x in known_positives[:3]:\n",
        "            print(\"        %s\" % x)\n",
        "\n",
        "        print(\"     Recommended:\")\n",
        "\n",
        "        for x in top_items[:3]:\n",
        "            print(\"        %s\" % x)\n",
        "            "
      ],
      "execution_count": 0,
      "outputs": []
    },
    {
      "metadata": {
        "id": "duznBMqQ_VLU",
        "colab_type": "text"
      },
      "cell_type": "markdown",
      "source": [
        "**Test the model**"
      ]
    },
    {
      "metadata": {
        "id": "6NRCLV2m_Y8b",
        "colab_type": "code",
        "colab": {
          "base_uri": "https://localhost:8080/",
          "height": 782
        },
        "outputId": "c7e0ea23-aa32-4050-be21-d8cf1f4e3b99"
      },
      "cell_type": "code",
      "source": [
        "sample_recommendation(model,data,range(5))"
      ],
      "execution_count": 83,
      "outputs": [
        {
          "output_type": "stream",
          "text": [
            "User 0\n",
            "     Known positives:\n",
            "        Toy Story (1995)\n",
            "        Four Rooms (1995)\n",
            "        Shanghai Triad (Yao a yao yao dao waipo qiao) (1995)\n",
            "     Recommended:\n",
            "        Star Wars (1977)\n",
            "        Fargo (1996)\n",
            "        Silence of the Lambs, The (1991)\n",
            "User 1\n",
            "     Known positives:\n",
            "        Toy Story (1995)\n",
            "        Postino, Il (1994)\n",
            "        Birdcage, The (1996)\n",
            "     Recommended:\n",
            "        English Patient, The (1996)\n",
            "        Titanic (1997)\n",
            "        Contact (1997)\n",
            "User 2\n",
            "     Known positives:\n",
            "        Return of the Jedi (1983)\n",
            "        Event Horizon (1997)\n",
            "        Schindler's List (1993)\n",
            "     Recommended:\n",
            "        L.A. Confidential (1997)\n",
            "        Titanic (1997)\n",
            "        Contact (1997)\n",
            "User 3\n",
            "     Known positives:\n",
            "        Seven (Se7en) (1995)\n",
            "        Contact (1997)\n",
            "        Starship Troopers (1997)\n",
            "     Recommended:\n",
            "        Kiss the Girls (1997)\n",
            "        Scream (1996)\n",
            "        Air Force One (1997)\n",
            "User 4\n",
            "     Known positives:\n",
            "        Rumble in the Bronx (1995)\n",
            "        Batman Forever (1995)\n",
            "        To Wong Foo, Thanks for Everything! Julie Newmar (1995)\n",
            "     Recommended:\n",
            "        Monty Python and the Holy Grail (1974)\n",
            "        Empire Strikes Back, The (1980)\n",
            "        Star Wars (1977)\n"
          ],
          "name": "stdout"
        }
      ]
    },
    {
      "metadata": {
        "id": "pyt3CDhJ_d9L",
        "colab_type": "code",
        "colab": {}
      },
      "cell_type": "code",
      "source": [
        ""
      ],
      "execution_count": 0,
      "outputs": []
    }
  ]
}