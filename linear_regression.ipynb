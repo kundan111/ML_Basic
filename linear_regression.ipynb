{
  "nbformat": 4,
  "nbformat_minor": 0,
  "metadata": {
    "colab": {
      "name": "linear_regression.ipynb",
      "version": "0.3.2",
      "provenance": [],
      "collapsed_sections": []
    },
    "kernelspec": {
      "name": "python3",
      "display_name": "Python 3"
    }
  },
  "cells": [
    {
      "metadata": {
        "id": "ro1Yyx1oAfOn",
        "colab_type": "text"
      },
      "cell_type": "markdown",
      "source": [
        "**load brain_body.txt **"
      ]
    },
    {
      "metadata": {
        "id": "C9oazUdHvR2P",
        "colab_type": "code",
        "colab": {
          "base_uri": "https://localhost:8080/",
          "height": 224
        },
        "outputId": "08e02497-e22a-469e-a158-51f5d47ec5bc"
      },
      "cell_type": "code",
      "source": [
        "!wget \"https://raw.githubusercontent.com/llSourcell/linear_regression_demo/master/brain_body.txt\""
      ],
      "execution_count": 8,
      "outputs": [
        {
          "output_type": "stream",
          "text": [
            "--2019-03-01 06:45:56--  https://raw.githubusercontent.com/llSourcell/linear_regression_demo/master/brain_body.txt\n",
            "Resolving raw.githubusercontent.com (raw.githubusercontent.com)... 151.101.0.133, 151.101.64.133, 151.101.128.133, ...\n",
            "Connecting to raw.githubusercontent.com (raw.githubusercontent.com)|151.101.0.133|:443... connected.\n",
            "HTTP request sent, awaiting response... 200 OK\n",
            "Length: 1258 (1.2K) [text/plain]\n",
            "Saving to: ‘brain_body.txt’\n",
            "\n",
            "\rbrain_body.txt        0%[                    ]       0  --.-KB/s               \rbrain_body.txt      100%[===================>]   1.23K  --.-KB/s    in 0s      \n",
            "\n",
            "2019-03-01 06:45:56 (154 MB/s) - ‘brain_body.txt’ saved [1258/1258]\n",
            "\n"
          ],
          "name": "stdout"
        }
      ]
    },
    {
      "metadata": {
        "id": "dGTDR28QBe01",
        "colab_type": "text"
      },
      "cell_type": "markdown",
      "source": [
        "**complete all impots**"
      ]
    },
    {
      "metadata": {
        "id": "KLrjK1z8zQx8",
        "colab_type": "code",
        "colab": {}
      },
      "cell_type": "code",
      "source": [
        "import pandas as pd\n",
        "from sklearn import linear_model\n",
        "import matplotlib.pyplot as plt"
      ],
      "execution_count": 0,
      "outputs": []
    },
    {
      "metadata": {
        "id": "cFSVfm9sEpc0",
        "colab_type": "text"
      },
      "cell_type": "markdown",
      "source": [
        "**load the data**"
      ]
    },
    {
      "metadata": {
        "id": "v0LVuHioBhne",
        "colab_type": "code",
        "colab": {}
      },
      "cell_type": "code",
      "source": [
        "dataframe = pd.read_fwf(\"brain_body.txt\")"
      ],
      "execution_count": 0,
      "outputs": []
    },
    {
      "metadata": {
        "id": "3SQT1MmdAoA4",
        "colab_type": "code",
        "colab": {}
      },
      "cell_type": "code",
      "source": [
        "x = dataframe[['Body']]\n",
        "y = dataframe[['Brain']]"
      ],
      "execution_count": 0,
      "outputs": []
    },
    {
      "metadata": {
        "id": "Sp7gsri4Ewf1",
        "colab_type": "text"
      },
      "cell_type": "markdown",
      "source": [
        "**Create linear regression Model**"
      ]
    },
    {
      "metadata": {
        "id": "CRXjF_1VBwvm",
        "colab_type": "code",
        "colab": {
          "base_uri": "https://localhost:8080/",
          "height": 51
        },
        "outputId": "5e85c748-fc3f-4ddb-df98-095d2998409b"
      },
      "cell_type": "code",
      "source": [
        "model = linear_model.LinearRegression()\n",
        "model.fit(x,y)"
      ],
      "execution_count": 24,
      "outputs": [
        {
          "output_type": "execute_result",
          "data": {
            "text/plain": [
              "LinearRegression(copy_X=True, fit_intercept=True, n_jobs=None,\n",
              "         normalize=False)"
            ]
          },
          "metadata": {
            "tags": []
          },
          "execution_count": 24
        }
      ]
    },
    {
      "metadata": {
        "id": "n3OjMeNNE1ad",
        "colab_type": "text"
      },
      "cell_type": "markdown",
      "source": [
        "**Plot the result**"
      ]
    },
    {
      "metadata": {
        "id": "P7FDxHG6Coi7",
        "colab_type": "code",
        "colab": {
          "base_uri": "https://localhost:8080/",
          "height": 368
        },
        "outputId": "d5263ac5-a0f8-4d62-c84a-ac857925e872"
      },
      "cell_type": "code",
      "source": [
        "plt.scatter(x,y)\n",
        "plt.plot(x, model.predict(x))"
      ],
      "execution_count": 27,
      "outputs": [
        {
          "output_type": "execute_result",
          "data": {
            "text/plain": [
              "[<matplotlib.lines.Line2D at 0x7f2e00548828>]"
            ]
          },
          "metadata": {
            "tags": []
          },
          "execution_count": 27
        },
        {
          "output_type": "display_data",
          "data": {
            "image/png": "[encoded data removed]",
            "text/plain": [
              "<Figure size 576x396 with 1 Axes>"
            ]
          },
          "metadata": {
            "tags": []
          }
        }
      ]
    },
    {
      "metadata": {
        "id": "JnxxULqEDq98",
        "colab_type": "code",
        "colab": {}
      },
      "cell_type": "code",
      "source": [
        "plt.show()"
      ],
      "execution_count": 0,
      "outputs": []
    },
    {
      "metadata": {
        "id": "YpSQh0SzEaXt",
        "colab_type": "code",
        "colab": {}
      },
      "cell_type": "code",
      "source": [
        ""
      ],
      "execution_count": 0,
      "outputs": []
    }
  ]
}