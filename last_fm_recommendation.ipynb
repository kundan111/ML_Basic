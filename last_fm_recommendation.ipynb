{
  "nbformat": 4,
  "nbformat_minor": 0,
  "metadata": {
    "colab": {
      "name": "last_fm_recommendation.ipynb",
      "version": "0.3.2",
      "provenance": [],
      "collapsed_sections": [],
      "toc_visible": true,
      "include_colab_link": true
    },
    "kernelspec": {
      "name": "python2",
      "display_name": "Python 2"
    }
  },
  "cells": [
    {
      "cell_type": "markdown",
      "metadata": {
        "id": "view-in-github",
        "colab_type": "text"
      },
      "source": [
        "<a href=\"https://colab.research.google.com/github/kundan111/ML_Basic/blob/master/last_fm_recommendation.ipynb\" target=\"_parent\"><img src=\"https://colab.research.google.com/assets/colab-badge.svg\" alt=\"Open In Colab\"/></a>"
      ]
    },
    {
      "metadata": {
        "id": "DEchj_p9w7nv",
        "colab_type": "text"
      },
      "cell_type": "markdown",
      "source": [
        "# Recommendation using lightfm using lastFm data"
      ]
    },
    {
      "metadata": {
        "id": "8Kw3XxAAwztj",
        "colab_type": "text"
      },
      "cell_type": "markdown",
      "source": [
        "**Load data **"
      ]
    },
    {
      "metadata": {
        "id": "z8qV3XPWKdWV",
        "colab_type": "code",
        "colab": {
          "base_uri": "https://localhost:8080/",
          "height": 292
        },
        "outputId": "363205db-17ea-4d38-9441-98c76f7795e4"
      },
      "cell_type": "code",
      "source": [
        "!pip install lightfm"
      ],
      "execution_count": 5,
      "outputs": [
        {
          "output_type": "stream",
          "text": [
            "Collecting lightfm\n",
            "  Using cached https://files.pythonhosted.org/packages/e9/8e/5485ac5a8616abe1c673d1e033e2f232b4319ab95424b42499fabff2257f/lightfm-1.15.tar.gz\n",
            "Requirement already satisfied: numpy in /usr/local/lib/python2.7/dist-packages (from lightfm) (1.14.6)\n",
            "Requirement already satisfied: scipy>=0.17.0 in /usr/local/lib/python2.7/dist-packages (from lightfm) (1.1.0)\n",
            "Requirement already satisfied: requests in /usr/local/lib/python2.7/dist-packages (from lightfm) (2.18.4)\n",
            "Requirement already satisfied: idna<2.7,>=2.5 in /usr/local/lib/python2.7/dist-packages (from requests->lightfm) (2.6)\n",
            "Requirement already satisfied: urllib3<1.23,>=1.21.1 in /usr/local/lib/python2.7/dist-packages (from requests->lightfm) (1.22)\n",
            "Requirement already satisfied: certifi>=2017.4.17 in /usr/local/lib/python2.7/dist-packages (from requests->lightfm) (2018.11.29)\n",
            "Requirement already satisfied: chardet<3.1.0,>=3.0.2 in /usr/local/lib/python2.7/dist-packages (from requests->lightfm) (3.0.4)\n",
            "Building wheels for collected packages: lightfm\n",
            "  Building wheel for lightfm (setup.py) ... \u001b[?25ldone\n",
            "\u001b[?25h  Stored in directory: /root/.cache/pip/wheels/eb/bb/ac/188385a5da6627956be5d9663928483b36da576149ab5b8f79\n",
            "Successfully built lightfm\n",
            "Installing collected packages: lightfm\n",
            "Successfully installed lightfm-1.15\n"
          ],
          "name": "stdout"
        }
      ]
    },
    {
      "metadata": {
        "id": "MzT39QTPSlID",
        "colab_type": "code",
        "colab": {
          "base_uri": "https://localhost:8080/",
          "height": 34
        },
        "outputId": "c819125b-ce05-4901-f0f9-14a12a6e1e58"
      },
      "cell_type": "code",
      "source": [
        "cd recommender_system_py/"
      ],
      "execution_count": 8,
      "outputs": [
        {
          "output_type": "stream",
          "text": [
            "/content/recommender_system_py\n"
          ],
          "name": "stdout"
        }
      ]
    },
    {
      "metadata": {
        "id": "NGEDNmF1-dVG",
        "colab_type": "code",
        "colab": {}
      },
      "cell_type": "code",
      "source": [
        "file_path = 'data/100k_lines_lastfm.tsv'\n",
        "from scipy.sparse import coo_matrix\n",
        "# Data to create our coo_matrix\n",
        "data, row, col = [], [], []\n",
        "\n",
        "# Artists by id, and users\n",
        "artists, users = {}, {}\n",
        "\n",
        "# Read the file and fill variables with data to\n",
        "# create the matrix and have the artists by id\n",
        "with open(file_path) as data_file:\n",
        "    for n, line in enumerate(data_file):\n",
        "        readable_data = line.split('\\t')\n",
        "        user =           readable_data[0]\n",
        "        artist_id =      readable_data[1]\n",
        "        artist_name =    readable_data[2]\n",
        "#         print(readable_data[2])\n",
        "        plays =         int(readable_data[3])\n",
        "\n",
        "        if user not in users:\n",
        "            users[user] = len(users)\n",
        "\n",
        "        if artist_id not in artists:\n",
        "            artists[artist_id] = {\n",
        "                    'name' : artist_name,\n",
        "                    'id' : len(artists)\n",
        "                    }\n",
        "\n",
        "        # Data for the coo_matrix if the artist was played > 200 times\n",
        "        if plays > 200:\n",
        "            data.append(plays)\n",
        "            row.append(users[user])\n",
        "            col.append(artists[artist_id]['id'])\n",
        "coo = coo_matrix((data,(row,col)))\n",
        "\n",
        "# We return the matrix, the artist dictionary and the amount of users\n",
        "data = {\n",
        "        'matrix' : coo,\n",
        "        'artists' : artists,\n",
        "        'users' : len(users)\n",
        " }\n",
        "\n"
      ],
      "execution_count": 0,
      "outputs": []
    },
    {
      "metadata": {
        "id": "XxOIdNmMMpVY",
        "colab_type": "code",
        "colab": {}
      },
      "cell_type": "code",
      "source": [
        "print(len(coo.toarray()))"
      ],
      "execution_count": 0,
      "outputs": []
    },
    {
      "metadata": {
        "id": "huk0PCi6o1SL",
        "colab_type": "text"
      },
      "cell_type": "markdown",
      "source": [
        "**Recommend**"
      ]
    },
    {
      "metadata": {
        "id": "D858_1F_LUHW",
        "colab_type": "text"
      },
      "cell_type": "markdown",
      "source": [
        "**Create model**"
      ]
    },
    {
      "metadata": {
        "id": "hC6Y0E_kHz0U",
        "colab_type": "code",
        "colab": {
          "base_uri": "https://localhost:8080/",
          "height": 34
        },
        "outputId": "0e80554e-c22b-4849-e01a-6ddd87c6d368"
      },
      "cell_type": "code",
      "source": [
        "from lightfm import LightFM\n",
        "model = LightFM(loss = 'warp')\n",
        "model.fit(data['matrix'],epochs = 50, num_threads = 2 )"
      ],
      "execution_count": 10,
      "outputs": [
        {
          "output_type": "execute_result",
          "data": {
            "text/plain": [
              "<lightfm.lightfm.LightFM at 0x7f5f0c1fe310>"
            ]
          },
          "metadata": {
            "tags": []
          },
          "execution_count": 10
        }
      ]
    },
    {
      "metadata": {
        "id": "ZcPY5WxZLpgK",
        "colab_type": "text"
      },
      "cell_type": "markdown",
      "source": [
        "**Get recommendation**"
      ]
    },
    {
      "metadata": {
        "id": "f2B8BGt0LpNx",
        "colab_type": "code",
        "colab": {}
      },
      "cell_type": "code",
      "source": [
        "import numpy as np\n",
        "def get_recomm(model, coo_mtrx, user_ids):\n",
        "  n_items = coo_mtrx.shape[0]\n",
        "  for user in user_ids:\n",
        "    scores = model.predict(user, np.arange(n_items))\n",
        "    top_scores = np.argsort(-scores)[:3]\n",
        "    print('Recomendations for user %s:' % user)\n",
        "    for x in top_scores.tolist():\n",
        "         for artist, values in data['artists'].iteritems():\n",
        "                if int(x) == values['id']:\n",
        "                    print('   - %s' % values['name'])\n",
        "    print('\\n')\n",
        "\n",
        "  "
      ],
      "execution_count": 0,
      "outputs": []
    },
    {
      "metadata": {
        "id": "7QAA0v2jS1fa",
        "colab_type": "text"
      },
      "cell_type": "markdown",
      "source": [
        "**Making Predictions**"
      ]
    },
    {
      "metadata": {
        "id": "KvLvCzH3KIQC",
        "colab_type": "code",
        "colab": {
          "base_uri": "https://localhost:8080/",
          "height": 323
        },
        "outputId": "a0073108-74a4-46b4-e35e-ed4a30b88a2e"
      },
      "cell_type": "code",
      "source": [
        "  get_recomm(model, data['matrix'], [23, 34, 45])"
      ],
      "execution_count": 12,
      "outputs": [
        {
          "output_type": "stream",
          "text": [
            "Recomendations for user 23:\n",
            "   - death cab for cutie\n",
            "   - radiohead\n",
            "   - nine inch nails\n",
            "\n",
            "\n",
            "Recomendations for user 34:\n",
            "   - rock universal\n",
            "   - the beatles\n",
            "   - nine inch nails\n",
            "\n",
            "\n",
            "Recomendations for user 45:\n",
            "   - autechre\n",
            "   - bonobo\n",
            "   - boards of canada\n",
            "\n",
            "\n"
          ],
          "name": "stdout"
        }
      ]
    },
    {
      "metadata": {
        "id": "EIC_Ci9TMOzd",
        "colab_type": "code",
        "colab": {}
      },
      "cell_type": "code",
      "source": [
        ""
      ],
      "execution_count": 0,
      "outputs": []
    }
  ]
}