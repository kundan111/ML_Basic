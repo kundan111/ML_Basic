{
  "nbformat": 4,
  "nbformat_minor": 0,
  "metadata": {
    "colab": {
      "name": "decision_tree_using_sklearn",
      "version": "0.3.2",
      "provenance": [],
      "collapsed_sections": []
    },
    "kernelspec": {
      "name": "python3",
      "display_name": "Python 3"
    }
  },
  "cells": [
    {
      "metadata": {
        "id": "oU1ii9z8Ga5r",
        "colab_type": "text"
      },
      "cell_type": "markdown",
      "source": [
        ""
      ]
    },
    {
      "metadata": {
        "id": "JVUzhkudnnaT",
        "colab_type": "text"
      },
      "cell_type": "markdown",
      "source": [
        "**Decision Tree ** \n",
        "\n",
        "---\n",
        "\n",
        "detail explanation: [link text](https://scikit-learn.org/stable/modules/tree.html) and [link text](https://scikit-learn.org/stable/modules/tree.html)\n",
        "\n",
        "Important Points to note:\n",
        "\n",
        "\n",
        "1.   supervised learning method used for **classification** and **regression**. \n",
        "2.  The cost of using the tree (i.e., predicting data) is logarithmic in the number of data points used to train the tree.\n",
        "3. Able to handle both numerical and categorical data.\n",
        "4.can create over-complex trees that do not generalise the data well(overfitting)\n",
        "\n",
        "![alt text](https://cdn-images-1.medium.com/max/1000/1*AW2MdkuVd1JRcGSFsPqy0w.png)\n",
        "\n",
        "![alt text](https://cdn-images-1.medium.com/max/800/1*90aXwmVffr4s5K9JcRWK9g.png)\n",
        "\n",
        "4. Decision tree is **unstable**\n",
        "\n",
        "*A stable learning algorithm is one for which the prediction does not change much when the training data is modified slightly. *\n",
        "\n",
        "5.Decision trees are inherently unstable as with slight change in input, not only the output changes but it gives rise to a completely different tree structure.\n",
        "\n",
        "\n",
        "\n",
        "---\n",
        "\n",
        "ten decision trees are trained on titanic dataset having exact same hyper-parameters with 10 different seed values, which ensures that each tree trains with a slightly different sample.\n",
        "\n",
        "![alt text](https://cdn-images-1.medium.com/max/800/1*AoOs4rPDLPeVu7QLETI5Rg.png)\n",
        "\n",
        "\n",
        "\n",
        "As can be clearly inferred, the tree is very unstable as the most important factors vary significantly for different seeds. For example, at seed 0 (zero), three most important features are Title, Fare and Age in that order; which become Sex, Pclass and Fare for seed 2304.\n",
        "\n",
        "\n",
        "[What is seed ](https://www.youtube.com/watch?v=UF1tHhIeQ6U)\n",
        "\n",
        "5.Decision tree is unstable because training a tree with a slightly different sub-sample causes the structure of the tree to change drastically. It overfits by learning from noise data as well and optimises for that particular sample, which causes its variable importance order to change significantly.\n",
        "\n",
        "6.The problem of learning an optimal decision tree is known to be NP-complete under several aspects of optimality and even for simple concepts. Consequently, practical decision-tree learning algorithms are based on heuristic algorithms such as the greedy algorithm where locally optimal decisions are made at each node. Such algorithms cannot guarantee to return the globally optimal decision tree. This can be mitigated by training multiple trees in an ensemble learner, where the features and samples are randomly sampled with replacement."
      ]
    },
    {
      "metadata": {
        "id": "gCQX3aL_PhO4",
        "colab_type": "text"
      },
      "cell_type": "markdown",
      "source": [
        "**Classification**"
      ]
    },
    {
      "metadata": {
        "id": "7WNg0T8_Hbix",
        "colab_type": "code",
        "colab": {
          "base_uri": "https://localhost:8080/",
          "height": 34
        },
        "outputId": "9a246634-c585-4620-f54d-52826a47fa65"
      },
      "cell_type": "code",
      "source": [
        "from sklearn import tree\n",
        "x = [[0,0],[1,1]]\n",
        "y = [0,1]\n",
        "clf = tree.DecisionTreeClassifier()\n",
        "clf.fit(x,y)\n",
        "# clf.predict([[0,0]])\n",
        "clf.predict_proba([[0,0]])\n"
      ],
      "execution_count": 8,
      "outputs": [
        {
          "output_type": "execute_result",
          "data": {
            "text/plain": [
              "array([[1., 0.]])"
            ]
          },
          "metadata": {
            "tags": []
          },
          "execution_count": 8
        }
      ]
    },
    {
      "metadata": {
        "id": "TteZIFhHHde6",
        "colab_type": "code",
        "colab": {}
      },
      "cell_type": "code",
      "source": [
        "from sklearn.datasets import load_iris\n",
        "from sklearn import tree\n",
        "iris = load_iris()\n",
        "x = iris.data\n",
        "y = iris.target\n",
        "# print(iris.target_names)\n",
        "# print(iris.feature_names)\n",
        "clf = tree.DecisionTreeClassifier()\n",
        "clf = clf.fit(x,y)\n",
        "\n",
        "\n"
      ],
      "execution_count": 0,
      "outputs": []
    },
    {
      "metadata": {
        "id": "h9kW1tO3JVy0",
        "colab_type": "code",
        "colab": {}
      },
      "cell_type": "code",
      "source": [
        "import graphviz \n",
        "data = tree.export_graphviz(clf, out_file = None)\n",
        "graph = graphviz.Source(data)\n",
        "graph.render(\"iris_output\")"
      ],
      "execution_count": 0,
      "outputs": []
    },
    {
      "metadata": {
        "id": "nUJkvpzfPMSj",
        "colab_type": "text"
      },
      "cell_type": "markdown",
      "source": [
        "\n",
        "\n",
        "```\n",
        "graph = graphviz.Source(data)\n",
        "graph.render(\"iris_output\")\n",
        "```\n",
        "\n",
        "It produces iris_output as output file in pdf format\n",
        "\n"
      ]
    },
    {
      "metadata": {
        "id": "2fhV8Y45Pk6-",
        "colab_type": "text"
      },
      "cell_type": "markdown",
      "source": [
        "Output File"
      ]
    },
    {
      "metadata": {
        "id": "1RACiidhPopd",
        "colab_type": "code",
        "colab": {
          "base_uri": "https://localhost:8080/",
          "height": 936
        },
        "outputId": "957ca341-c2fd-424d-a0b4-64decb4f283c"
      },
      "cell_type": "code",
      "source": [
        "dot_data = tree.export_graphviz(clf, out_file=None, feature_names=iris.feature_names,class_names=iris.target_names, filled=True, rounded=True, special_characters=True) \n",
        "graph = graphviz.Source(dot_data)  \n",
        "graph"
      ],
      "execution_count": 31,
      "outputs": [
        {
          "output_type": "execute_result",
          "data": {
            "text/plain": [
              "<graphviz.files.Source at 0x7f3ba86b4240>"
            ],
            "image/svg+xml": "<?xml version=\"1.0\" encoding=\"UTF-8\" standalone=\"no\"?>\n<!DOCTYPE svg PUBLIC \"-//W3C//DTD SVG 1.1//EN\"\n \"http://www.w3.org/Graphics/SVG/1.1/DTD/svg11.dtd\">\n<!-- Generated by graphviz version 2.40.1 (20161225.0304)\n -->\n<!-- Title: Tree Pages: 1 -->\n<svg width=\"897pt\" height=\"671pt\"\n viewBox=\"0.00 0.00 896.50 671.00\" xmlns=\"http://www.w3.org/2000/svg\" xmlns:xlink=\"http://www.w3.org/1999/xlink\">\n<g id=\"graph0\" class=\"graph\" transform=\"scale(1 1) rotate(0) translate(4 667)\">\n<title>Tree</title>\n<polygon fill=\"#ffffff\" stroke=\"transparent\" points=\"-4,4 -4,-667 892.5,-667 892.5,4 -4,4\"/>\n<!-- 0 -->\n<g id=\"node1\" class=\"node\">\n<title>0</title>\n<path fill=\"transparent\" stroke=\"#000000\" d=\"M542.5,-663C542.5,-663 399.5,-663 399.5,-663 393.5,-663 387.5,-657 387.5,-651 387.5,-651 387.5,-592 387.5,-592 387.5,-586 393.5,-580 399.5,-580 399.5,-580 542.5,-580 542.5,-580 548.5,-580 554.5,-586 554.5,-592 554.5,-592 554.5,-651 554.5,-651 554.5,-657 548.5,-663 542.5,-663\"/>\n<text text-anchor=\"start\" x=\"395.5\" y=\"-647.8\" font-family=\"Helvetica,sans-Serif\" font-size=\"14.00\" fill=\"#000000\">petal length (cm) ≤ 2.45</text>\n<text text-anchor=\"start\" x=\"433\" y=\"-632.8\" font-family=\"Helvetica,sans-Serif\" font-size=\"14.00\" fill=\"#000000\">gini = 0.667</text>\n<text text-anchor=\"start\" x=\"423\" y=\"-617.8\" font-family=\"Helvetica,sans-Serif\" font-size=\"14.00\" fill=\"#000000\">samples = 150</text>\n<text text-anchor=\"start\" x=\"409\" y=\"-602.8\" font-family=\"Helvetica,sans-Serif\" font-size=\"14.00\" fill=\"#000000\">value = [50, 50, 50]</text>\n<text text-anchor=\"start\" x=\"424\" y=\"-587.8\" font-family=\"Helvetica,sans-Serif\" font-size=\"14.00\" fill=\"#000000\">class = setosa</text>\n</g>\n<!-- 1 -->\n<g id=\"node2\" class=\"node\">\n<title>1</title>\n<path fill=\"#e58139\" stroke=\"#000000\" d=\"M440.5,-536.5C440.5,-536.5 341.5,-536.5 341.5,-536.5 335.5,-536.5 329.5,-530.5 329.5,-524.5 329.5,-524.5 329.5,-480.5 329.5,-480.5 329.5,-474.5 335.5,-468.5 341.5,-468.5 341.5,-468.5 440.5,-468.5 440.5,-468.5 446.5,-468.5 452.5,-474.5 452.5,-480.5 452.5,-480.5 452.5,-524.5 452.5,-524.5 452.5,-530.5 446.5,-536.5 440.5,-536.5\"/>\n<text text-anchor=\"start\" x=\"361.5\" y=\"-521.3\" font-family=\"Helvetica,sans-Serif\" font-size=\"14.00\" fill=\"#000000\">gini = 0.0</text>\n<text text-anchor=\"start\" x=\"347\" y=\"-506.3\" font-family=\"Helvetica,sans-Serif\" font-size=\"14.00\" fill=\"#000000\">samples = 50</text>\n<text text-anchor=\"start\" x=\"337.5\" y=\"-491.3\" font-family=\"Helvetica,sans-Serif\" font-size=\"14.00\" fill=\"#000000\">value = [50, 0, 0]</text>\n<text text-anchor=\"start\" x=\"344\" y=\"-476.3\" font-family=\"Helvetica,sans-Serif\" font-size=\"14.00\" fill=\"#000000\">class = setosa</text>\n</g>\n<!-- 0&#45;&gt;1 -->\n<g id=\"edge1\" class=\"edge\">\n<title>0&#45;&gt;1</title>\n<path fill=\"none\" stroke=\"#000000\" d=\"M443.0199,-579.8796C435.4797,-568.6636 427.3113,-556.5131 419.7309,-545.2372\"/>\n<polygon fill=\"#000000\" stroke=\"#000000\" points=\"422.5527,-543.1612 414.0689,-536.8149 416.7434,-547.0667 422.5527,-543.1612\"/>\n<text text-anchor=\"middle\" x=\"409.2608\" y=\"-557.6482\" font-family=\"Helvetica,sans-Serif\" font-size=\"14.00\" fill=\"#000000\">True</text>\n</g>\n<!-- 2 -->\n<g id=\"node3\" class=\"node\">\n<title>2</title>\n<path fill=\"transparent\" stroke=\"#000000\" d=\"M619.5,-544C619.5,-544 482.5,-544 482.5,-544 476.5,-544 470.5,-538 470.5,-532 470.5,-532 470.5,-473 470.5,-473 470.5,-467 476.5,-461 482.5,-461 482.5,-461 619.5,-461 619.5,-461 625.5,-461 631.5,-467 631.5,-473 631.5,-473 631.5,-532 631.5,-532 631.5,-538 625.5,-544 619.5,-544\"/>\n<text text-anchor=\"start\" x=\"478.5\" y=\"-528.8\" font-family=\"Helvetica,sans-Serif\" font-size=\"14.00\" fill=\"#000000\">petal width (cm) ≤ 1.75</text>\n<text text-anchor=\"start\" x=\"521.5\" y=\"-513.8\" font-family=\"Helvetica,sans-Serif\" font-size=\"14.00\" fill=\"#000000\">gini = 0.5</text>\n<text text-anchor=\"start\" x=\"503\" y=\"-498.8\" font-family=\"Helvetica,sans-Serif\" font-size=\"14.00\" fill=\"#000000\">samples = 100</text>\n<text text-anchor=\"start\" x=\"493.5\" y=\"-483.8\" font-family=\"Helvetica,sans-Serif\" font-size=\"14.00\" fill=\"#000000\">value = [0, 50, 50]</text>\n<text text-anchor=\"start\" x=\"495\" y=\"-468.8\" font-family=\"Helvetica,sans-Serif\" font-size=\"14.00\" fill=\"#000000\">class = versicolor</text>\n</g>\n<!-- 0&#45;&gt;2 -->\n<g id=\"edge2\" class=\"edge\">\n<title>0&#45;&gt;2</title>\n<path fill=\"none\" stroke=\"#000000\" d=\"M498.9801,-579.8796C504.8531,-571.1434 511.1073,-561.8404 517.1679,-552.8253\"/>\n<polygon fill=\"#000000\" stroke=\"#000000\" points=\"520.2259,-554.5498 522.9005,-544.2981 514.4166,-550.6444 520.2259,-554.5498\"/>\n<text text-anchor=\"middle\" x=\"527.7085\" y=\"-565.1314\" font-family=\"Helvetica,sans-Serif\" font-size=\"14.00\" fill=\"#000000\">False</text>\n</g>\n<!-- 3 -->\n<g id=\"node4\" class=\"node\">\n<title>3</title>\n<path fill=\"#39e581\" fill-opacity=\"0.898039\" stroke=\"#000000\" d=\"M505.5,-425C505.5,-425 362.5,-425 362.5,-425 356.5,-425 350.5,-419 350.5,-413 350.5,-413 350.5,-354 350.5,-354 350.5,-348 356.5,-342 362.5,-342 362.5,-342 505.5,-342 505.5,-342 511.5,-342 517.5,-348 517.5,-354 517.5,-354 517.5,-413 517.5,-413 517.5,-419 511.5,-425 505.5,-425\"/>\n<text text-anchor=\"start\" x=\"358.5\" y=\"-409.8\" font-family=\"Helvetica,sans-Serif\" font-size=\"14.00\" fill=\"#000000\">petal length (cm) ≤ 4.95</text>\n<text text-anchor=\"start\" x=\"396\" y=\"-394.8\" font-family=\"Helvetica,sans-Serif\" font-size=\"14.00\" fill=\"#000000\">gini = 0.168</text>\n<text text-anchor=\"start\" x=\"390\" y=\"-379.8\" font-family=\"Helvetica,sans-Serif\" font-size=\"14.00\" fill=\"#000000\">samples = 54</text>\n<text text-anchor=\"start\" x=\"380.5\" y=\"-364.8\" font-family=\"Helvetica,sans-Serif\" font-size=\"14.00\" fill=\"#000000\">value = [0, 49, 5]</text>\n<text text-anchor=\"start\" x=\"378\" y=\"-349.8\" font-family=\"Helvetica,sans-Serif\" font-size=\"14.00\" fill=\"#000000\">class = versicolor</text>\n</g>\n<!-- 2&#45;&gt;3 -->\n<g id=\"edge3\" class=\"edge\">\n<title>2&#45;&gt;3</title>\n<path fill=\"none\" stroke=\"#000000\" d=\"M510.0791,-460.8796C501.047,-451.6931 491.3987,-441.8798 482.1112,-432.4336\"/>\n<polygon fill=\"#000000\" stroke=\"#000000\" points=\"484.6023,-429.975 475.0956,-425.2981 479.6107,-434.8827 484.6023,-429.975\"/>\n</g>\n<!-- 12 -->\n<g id=\"node13\" class=\"node\">\n<title>12</title>\n<path fill=\"#8139e5\" fill-opacity=\"0.976471\" stroke=\"#000000\" d=\"M740.5,-425C740.5,-425 597.5,-425 597.5,-425 591.5,-425 585.5,-419 585.5,-413 585.5,-413 585.5,-354 585.5,-354 585.5,-348 591.5,-342 597.5,-342 597.5,-342 740.5,-342 740.5,-342 746.5,-342 752.5,-348 752.5,-354 752.5,-354 752.5,-413 752.5,-413 752.5,-419 746.5,-425 740.5,-425\"/>\n<text text-anchor=\"start\" x=\"593.5\" y=\"-409.8\" font-family=\"Helvetica,sans-Serif\" font-size=\"14.00\" fill=\"#000000\">petal length (cm) ≤ 4.85</text>\n<text text-anchor=\"start\" x=\"631\" y=\"-394.8\" font-family=\"Helvetica,sans-Serif\" font-size=\"14.00\" fill=\"#000000\">gini = 0.043</text>\n<text text-anchor=\"start\" x=\"625\" y=\"-379.8\" font-family=\"Helvetica,sans-Serif\" font-size=\"14.00\" fill=\"#000000\">samples = 46</text>\n<text text-anchor=\"start\" x=\"615.5\" y=\"-364.8\" font-family=\"Helvetica,sans-Serif\" font-size=\"14.00\" fill=\"#000000\">value = [0, 1, 45]</text>\n<text text-anchor=\"start\" x=\"617.5\" y=\"-349.8\" font-family=\"Helvetica,sans-Serif\" font-size=\"14.00\" fill=\"#000000\">class = virginica</text>\n</g>\n<!-- 2&#45;&gt;12 -->\n<g id=\"edge12\" class=\"edge\">\n<title>2&#45;&gt;12</title>\n<path fill=\"none\" stroke=\"#000000\" d=\"M592.2707,-460.8796C601.3799,-451.6931 611.1108,-441.8798 620.4776,-432.4336\"/>\n<polygon fill=\"#000000\" stroke=\"#000000\" points=\"622.9973,-434.8634 627.5532,-425.2981 618.0267,-429.9345 622.9973,-434.8634\"/>\n</g>\n<!-- 4 -->\n<g id=\"node5\" class=\"node\">\n<title>4</title>\n<path fill=\"#39e581\" fill-opacity=\"0.980392\" stroke=\"#000000\" d=\"M274.5,-306C274.5,-306 137.5,-306 137.5,-306 131.5,-306 125.5,-300 125.5,-294 125.5,-294 125.5,-235 125.5,-235 125.5,-229 131.5,-223 137.5,-223 137.5,-223 274.5,-223 274.5,-223 280.5,-223 286.5,-229 286.5,-235 286.5,-235 286.5,-294 286.5,-294 286.5,-300 280.5,-306 274.5,-306\"/>\n<text text-anchor=\"start\" x=\"133.5\" y=\"-290.8\" font-family=\"Helvetica,sans-Serif\" font-size=\"14.00\" fill=\"#000000\">petal width (cm) ≤ 1.65</text>\n<text text-anchor=\"start\" x=\"168\" y=\"-275.8\" font-family=\"Helvetica,sans-Serif\" font-size=\"14.00\" fill=\"#000000\">gini = 0.041</text>\n<text text-anchor=\"start\" x=\"162\" y=\"-260.8\" font-family=\"Helvetica,sans-Serif\" font-size=\"14.00\" fill=\"#000000\">samples = 48</text>\n<text text-anchor=\"start\" x=\"152.5\" y=\"-245.8\" font-family=\"Helvetica,sans-Serif\" font-size=\"14.00\" fill=\"#000000\">value = [0, 47, 1]</text>\n<text text-anchor=\"start\" x=\"150\" y=\"-230.8\" font-family=\"Helvetica,sans-Serif\" font-size=\"14.00\" fill=\"#000000\">class = versicolor</text>\n</g>\n<!-- 3&#45;&gt;4 -->\n<g id=\"edge4\" class=\"edge\">\n<title>3&#45;&gt;4</title>\n<path fill=\"none\" stroke=\"#000000\" d=\"M354.2567,-341.8796C334.9914,-331.8244 314.2871,-321.0183 294.6413,-310.7645\"/>\n<polygon fill=\"#000000\" stroke=\"#000000\" points=\"296.1829,-307.6212 285.6983,-306.0969 292.944,-313.8268 296.1829,-307.6212\"/>\n</g>\n<!-- 7 -->\n<g id=\"node8\" class=\"node\">\n<title>7</title>\n<path fill=\"#8139e5\" fill-opacity=\"0.498039\" stroke=\"#000000\" d=\"M502.5,-306C502.5,-306 365.5,-306 365.5,-306 359.5,-306 353.5,-300 353.5,-294 353.5,-294 353.5,-235 353.5,-235 353.5,-229 359.5,-223 365.5,-223 365.5,-223 502.5,-223 502.5,-223 508.5,-223 514.5,-229 514.5,-235 514.5,-235 514.5,-294 514.5,-294 514.5,-300 508.5,-306 502.5,-306\"/>\n<text text-anchor=\"start\" x=\"361.5\" y=\"-290.8\" font-family=\"Helvetica,sans-Serif\" font-size=\"14.00\" fill=\"#000000\">petal width (cm) ≤ 1.55</text>\n<text text-anchor=\"start\" x=\"396\" y=\"-275.8\" font-family=\"Helvetica,sans-Serif\" font-size=\"14.00\" fill=\"#000000\">gini = 0.444</text>\n<text text-anchor=\"start\" x=\"394.5\" y=\"-260.8\" font-family=\"Helvetica,sans-Serif\" font-size=\"14.00\" fill=\"#000000\">samples = 6</text>\n<text text-anchor=\"start\" x=\"384.5\" y=\"-245.8\" font-family=\"Helvetica,sans-Serif\" font-size=\"14.00\" fill=\"#000000\">value = [0, 2, 4]</text>\n<text text-anchor=\"start\" x=\"382.5\" y=\"-230.8\" font-family=\"Helvetica,sans-Serif\" font-size=\"14.00\" fill=\"#000000\">class = virginica</text>\n</g>\n<!-- 3&#45;&gt;7 -->\n<g id=\"edge7\" class=\"edge\">\n<title>3&#45;&gt;7</title>\n<path fill=\"none\" stroke=\"#000000\" d=\"M434,-341.8796C434,-333.6838 434,-324.9891 434,-316.5013\"/>\n<polygon fill=\"#000000\" stroke=\"#000000\" points=\"437.5001,-316.298 434,-306.2981 430.5001,-316.2981 437.5001,-316.298\"/>\n</g>\n<!-- 5 -->\n<g id=\"node6\" class=\"node\">\n<title>5</title>\n<path fill=\"#39e581\" stroke=\"#000000\" d=\"M116,-179.5C116,-179.5 12,-179.5 12,-179.5 6,-179.5 0,-173.5 0,-167.5 0,-167.5 0,-123.5 0,-123.5 0,-117.5 6,-111.5 12,-111.5 12,-111.5 116,-111.5 116,-111.5 122,-111.5 128,-117.5 128,-123.5 128,-123.5 128,-167.5 128,-167.5 128,-173.5 122,-179.5 116,-179.5\"/>\n<text text-anchor=\"start\" x=\"34.5\" y=\"-164.3\" font-family=\"Helvetica,sans-Serif\" font-size=\"14.00\" fill=\"#000000\">gini = 0.0</text>\n<text text-anchor=\"start\" x=\"20\" y=\"-149.3\" font-family=\"Helvetica,sans-Serif\" font-size=\"14.00\" fill=\"#000000\">samples = 47</text>\n<text text-anchor=\"start\" x=\"10.5\" y=\"-134.3\" font-family=\"Helvetica,sans-Serif\" font-size=\"14.00\" fill=\"#000000\">value = [0, 47, 0]</text>\n<text text-anchor=\"start\" x=\"8\" y=\"-119.3\" font-family=\"Helvetica,sans-Serif\" font-size=\"14.00\" fill=\"#000000\">class = versicolor</text>\n</g>\n<!-- 4&#45;&gt;5 -->\n<g id=\"edge5\" class=\"edge\">\n<title>4&#45;&gt;5</title>\n<path fill=\"none\" stroke=\"#000000\" d=\"M156.3353,-222.8796C142.1642,-211.0038 126.743,-198.0804 112.6342,-186.2568\"/>\n<polygon fill=\"#000000\" stroke=\"#000000\" points=\"114.8598,-183.5554 104.9472,-179.8149 110.3637,-188.9206 114.8598,-183.5554\"/>\n</g>\n<!-- 6 -->\n<g id=\"node7\" class=\"node\">\n<title>6</title>\n<path fill=\"#8139e5\" stroke=\"#000000\" d=\"M253.5,-179.5C253.5,-179.5 158.5,-179.5 158.5,-179.5 152.5,-179.5 146.5,-173.5 146.5,-167.5 146.5,-167.5 146.5,-123.5 146.5,-123.5 146.5,-117.5 152.5,-111.5 158.5,-111.5 158.5,-111.5 253.5,-111.5 253.5,-111.5 259.5,-111.5 265.5,-117.5 265.5,-123.5 265.5,-123.5 265.5,-167.5 265.5,-167.5 265.5,-173.5 259.5,-179.5 253.5,-179.5\"/>\n<text text-anchor=\"start\" x=\"176.5\" y=\"-164.3\" font-family=\"Helvetica,sans-Serif\" font-size=\"14.00\" fill=\"#000000\">gini = 0.0</text>\n<text text-anchor=\"start\" x=\"166.5\" y=\"-149.3\" font-family=\"Helvetica,sans-Serif\" font-size=\"14.00\" fill=\"#000000\">samples = 1</text>\n<text text-anchor=\"start\" x=\"156.5\" y=\"-134.3\" font-family=\"Helvetica,sans-Serif\" font-size=\"14.00\" fill=\"#000000\">value = [0, 0, 1]</text>\n<text text-anchor=\"start\" x=\"154.5\" y=\"-119.3\" font-family=\"Helvetica,sans-Serif\" font-size=\"14.00\" fill=\"#000000\">class = virginica</text>\n</g>\n<!-- 4&#45;&gt;6 -->\n<g id=\"edge6\" class=\"edge\">\n<title>4&#45;&gt;6</title>\n<path fill=\"none\" stroke=\"#000000\" d=\"M206,-222.8796C206,-212.2134 206,-200.7021 206,-189.9015\"/>\n<polygon fill=\"#000000\" stroke=\"#000000\" points=\"209.5001,-189.8149 206,-179.8149 202.5001,-189.815 209.5001,-189.8149\"/>\n</g>\n<!-- 8 -->\n<g id=\"node9\" class=\"node\">\n<title>8</title>\n<path fill=\"#8139e5\" stroke=\"#000000\" d=\"M390.5,-179.5C390.5,-179.5 295.5,-179.5 295.5,-179.5 289.5,-179.5 283.5,-173.5 283.5,-167.5 283.5,-167.5 283.5,-123.5 283.5,-123.5 283.5,-117.5 289.5,-111.5 295.5,-111.5 295.5,-111.5 390.5,-111.5 390.5,-111.5 396.5,-111.5 402.5,-117.5 402.5,-123.5 402.5,-123.5 402.5,-167.5 402.5,-167.5 402.5,-173.5 396.5,-179.5 390.5,-179.5\"/>\n<text text-anchor=\"start\" x=\"313.5\" y=\"-164.3\" font-family=\"Helvetica,sans-Serif\" font-size=\"14.00\" fill=\"#000000\">gini = 0.0</text>\n<text text-anchor=\"start\" x=\"303.5\" y=\"-149.3\" font-family=\"Helvetica,sans-Serif\" font-size=\"14.00\" fill=\"#000000\">samples = 3</text>\n<text text-anchor=\"start\" x=\"293.5\" y=\"-134.3\" font-family=\"Helvetica,sans-Serif\" font-size=\"14.00\" fill=\"#000000\">value = [0, 0, 3]</text>\n<text text-anchor=\"start\" x=\"291.5\" y=\"-119.3\" font-family=\"Helvetica,sans-Serif\" font-size=\"14.00\" fill=\"#000000\">class = virginica</text>\n</g>\n<!-- 7&#45;&gt;8 -->\n<g id=\"edge8\" class=\"edge\">\n<title>7&#45;&gt;8</title>\n<path fill=\"none\" stroke=\"#000000\" d=\"M402.1726,-222.8796C393.5116,-211.5536 384.1219,-199.2748 375.428,-187.9058\"/>\n<polygon fill=\"#000000\" stroke=\"#000000\" points=\"378.0956,-185.6324 369.2408,-179.8149 372.5351,-189.8846 378.0956,-185.6324\"/>\n</g>\n<!-- 9 -->\n<g id=\"node10\" class=\"node\">\n<title>9</title>\n<path fill=\"#39e581\" fill-opacity=\"0.498039\" stroke=\"#000000\" d=\"M579.5,-187C579.5,-187 432.5,-187 432.5,-187 426.5,-187 420.5,-181 420.5,-175 420.5,-175 420.5,-116 420.5,-116 420.5,-110 426.5,-104 432.5,-104 432.5,-104 579.5,-104 579.5,-104 585.5,-104 591.5,-110 591.5,-116 591.5,-116 591.5,-175 591.5,-175 591.5,-181 585.5,-187 579.5,-187\"/>\n<text text-anchor=\"start\" x=\"428.5\" y=\"-171.8\" font-family=\"Helvetica,sans-Serif\" font-size=\"14.00\" fill=\"#000000\">sepal length (cm) ≤ 6.95</text>\n<text text-anchor=\"start\" x=\"468\" y=\"-156.8\" font-family=\"Helvetica,sans-Serif\" font-size=\"14.00\" fill=\"#000000\">gini = 0.444</text>\n<text text-anchor=\"start\" x=\"466.5\" y=\"-141.8\" font-family=\"Helvetica,sans-Serif\" font-size=\"14.00\" fill=\"#000000\">samples = 3</text>\n<text text-anchor=\"start\" x=\"456.5\" y=\"-126.8\" font-family=\"Helvetica,sans-Serif\" font-size=\"14.00\" fill=\"#000000\">value = [0, 2, 1]</text>\n<text text-anchor=\"start\" x=\"450\" y=\"-111.8\" font-family=\"Helvetica,sans-Serif\" font-size=\"14.00\" fill=\"#000000\">class = versicolor</text>\n</g>\n<!-- 7&#45;&gt;9 -->\n<g id=\"edge9\" class=\"edge\">\n<title>7&#45;&gt;9</title>\n<path fill=\"none\" stroke=\"#000000\" d=\"M459.1821,-222.8796C464.4133,-214.2335 469.9805,-205.0322 475.3823,-196.1042\"/>\n<polygon fill=\"#000000\" stroke=\"#000000\" points=\"478.5283,-197.6658 480.7104,-187.2981 472.5392,-194.0421 478.5283,-197.6658\"/>\n</g>\n<!-- 10 -->\n<g id=\"node11\" class=\"node\">\n<title>10</title>\n<path fill=\"#39e581\" stroke=\"#000000\" d=\"M487,-68C487,-68 383,-68 383,-68 377,-68 371,-62 371,-56 371,-56 371,-12 371,-12 371,-6 377,0 383,0 383,0 487,0 487,0 493,0 499,-6 499,-12 499,-12 499,-56 499,-56 499,-62 493,-68 487,-68\"/>\n<text text-anchor=\"start\" x=\"405.5\" y=\"-52.8\" font-family=\"Helvetica,sans-Serif\" font-size=\"14.00\" fill=\"#000000\">gini = 0.0</text>\n<text text-anchor=\"start\" x=\"395.5\" y=\"-37.8\" font-family=\"Helvetica,sans-Serif\" font-size=\"14.00\" fill=\"#000000\">samples = 2</text>\n<text text-anchor=\"start\" x=\"385.5\" y=\"-22.8\" font-family=\"Helvetica,sans-Serif\" font-size=\"14.00\" fill=\"#000000\">value = [0, 2, 0]</text>\n<text text-anchor=\"start\" x=\"379\" y=\"-7.8\" font-family=\"Helvetica,sans-Serif\" font-size=\"14.00\" fill=\"#000000\">class = versicolor</text>\n</g>\n<!-- 9&#45;&gt;10 -->\n<g id=\"edge10\" class=\"edge\">\n<title>9&#45;&gt;10</title>\n<path fill=\"none\" stroke=\"#000000\" d=\"M479.5622,-103.9815C473.944,-95.1585 468.0012,-85.8258 462.3497,-76.9506\"/>\n<polygon fill=\"#000000\" stroke=\"#000000\" points=\"465.1416,-74.8188 456.8181,-68.2637 459.2371,-78.5787 465.1416,-74.8188\"/>\n</g>\n<!-- 11 -->\n<g id=\"node12\" class=\"node\">\n<title>11</title>\n<path fill=\"#8139e5\" stroke=\"#000000\" d=\"M624.5,-68C624.5,-68 529.5,-68 529.5,-68 523.5,-68 517.5,-62 517.5,-56 517.5,-56 517.5,-12 517.5,-12 517.5,-6 523.5,0 529.5,0 529.5,0 624.5,0 624.5,0 630.5,0 636.5,-6 636.5,-12 636.5,-12 636.5,-56 636.5,-56 636.5,-62 630.5,-68 624.5,-68\"/>\n<text text-anchor=\"start\" x=\"547.5\" y=\"-52.8\" font-family=\"Helvetica,sans-Serif\" font-size=\"14.00\" fill=\"#000000\">gini = 0.0</text>\n<text text-anchor=\"start\" x=\"537.5\" y=\"-37.8\" font-family=\"Helvetica,sans-Serif\" font-size=\"14.00\" fill=\"#000000\">samples = 1</text>\n<text text-anchor=\"start\" x=\"527.5\" y=\"-22.8\" font-family=\"Helvetica,sans-Serif\" font-size=\"14.00\" fill=\"#000000\">value = [0, 0, 1]</text>\n<text text-anchor=\"start\" x=\"525.5\" y=\"-7.8\" font-family=\"Helvetica,sans-Serif\" font-size=\"14.00\" fill=\"#000000\">class = virginica</text>\n</g>\n<!-- 9&#45;&gt;11 -->\n<g id=\"edge11\" class=\"edge\">\n<title>9&#45;&gt;11</title>\n<path fill=\"none\" stroke=\"#000000\" d=\"M532.4378,-103.9815C538.056,-95.1585 543.9988,-85.8258 549.6503,-76.9506\"/>\n<polygon fill=\"#000000\" stroke=\"#000000\" points=\"552.7629,-78.5787 555.1819,-68.2637 546.8584,-74.8188 552.7629,-78.5787\"/>\n</g>\n<!-- 13 -->\n<g id=\"node14\" class=\"node\">\n<title>13</title>\n<path fill=\"#8139e5\" fill-opacity=\"0.498039\" stroke=\"#000000\" d=\"M735.5,-306C735.5,-306 602.5,-306 602.5,-306 596.5,-306 590.5,-300 590.5,-294 590.5,-294 590.5,-235 590.5,-235 590.5,-229 596.5,-223 602.5,-223 602.5,-223 735.5,-223 735.5,-223 741.5,-223 747.5,-229 747.5,-235 747.5,-235 747.5,-294 747.5,-294 747.5,-300 741.5,-306 735.5,-306\"/>\n<text text-anchor=\"start\" x=\"598.5\" y=\"-290.8\" font-family=\"Helvetica,sans-Serif\" font-size=\"14.00\" fill=\"#000000\">sepal width (cm) ≤ 3.1</text>\n<text text-anchor=\"start\" x=\"631\" y=\"-275.8\" font-family=\"Helvetica,sans-Serif\" font-size=\"14.00\" fill=\"#000000\">gini = 0.444</text>\n<text text-anchor=\"start\" x=\"629.5\" y=\"-260.8\" font-family=\"Helvetica,sans-Serif\" font-size=\"14.00\" fill=\"#000000\">samples = 3</text>\n<text text-anchor=\"start\" x=\"619.5\" y=\"-245.8\" font-family=\"Helvetica,sans-Serif\" font-size=\"14.00\" fill=\"#000000\">value = [0, 1, 2]</text>\n<text text-anchor=\"start\" x=\"617.5\" y=\"-230.8\" font-family=\"Helvetica,sans-Serif\" font-size=\"14.00\" fill=\"#000000\">class = virginica</text>\n</g>\n<!-- 12&#45;&gt;13 -->\n<g id=\"edge13\" class=\"edge\">\n<title>12&#45;&gt;13</title>\n<path fill=\"none\" stroke=\"#000000\" d=\"M669,-341.8796C669,-333.6838 669,-324.9891 669,-316.5013\"/>\n<polygon fill=\"#000000\" stroke=\"#000000\" points=\"672.5001,-316.298 669,-306.2981 665.5001,-316.2981 672.5001,-316.298\"/>\n</g>\n<!-- 16 -->\n<g id=\"node17\" class=\"node\">\n<title>16</title>\n<path fill=\"#8139e5\" stroke=\"#000000\" d=\"M876.5,-298.5C876.5,-298.5 777.5,-298.5 777.5,-298.5 771.5,-298.5 765.5,-292.5 765.5,-286.5 765.5,-286.5 765.5,-242.5 765.5,-242.5 765.5,-236.5 771.5,-230.5 777.5,-230.5 777.5,-230.5 876.5,-230.5 876.5,-230.5 882.5,-230.5 888.5,-236.5 888.5,-242.5 888.5,-242.5 888.5,-286.5 888.5,-286.5 888.5,-292.5 882.5,-298.5 876.5,-298.5\"/>\n<text text-anchor=\"start\" x=\"797.5\" y=\"-283.3\" font-family=\"Helvetica,sans-Serif\" font-size=\"14.00\" fill=\"#000000\">gini = 0.0</text>\n<text text-anchor=\"start\" x=\"783\" y=\"-268.3\" font-family=\"Helvetica,sans-Serif\" font-size=\"14.00\" fill=\"#000000\">samples = 43</text>\n<text text-anchor=\"start\" x=\"773.5\" y=\"-253.3\" font-family=\"Helvetica,sans-Serif\" font-size=\"14.00\" fill=\"#000000\">value = [0, 0, 43]</text>\n<text text-anchor=\"start\" x=\"775.5\" y=\"-238.3\" font-family=\"Helvetica,sans-Serif\" font-size=\"14.00\" fill=\"#000000\">class = virginica</text>\n</g>\n<!-- 12&#45;&gt;16 -->\n<g id=\"edge16\" class=\"edge\">\n<title>12&#45;&gt;16</title>\n<path fill=\"none\" stroke=\"#000000\" d=\"M724.2607,-341.8796C740.2503,-329.8368 757.6703,-316.7167 773.5474,-304.7586\"/>\n<polygon fill=\"#000000\" stroke=\"#000000\" points=\"775.8116,-307.435 781.6938,-298.623 771.6002,-301.8435 775.8116,-307.435\"/>\n</g>\n<!-- 14 -->\n<g id=\"node15\" class=\"node\">\n<title>14</title>\n<path fill=\"#8139e5\" stroke=\"#000000\" d=\"M716.5,-179.5C716.5,-179.5 621.5,-179.5 621.5,-179.5 615.5,-179.5 609.5,-173.5 609.5,-167.5 609.5,-167.5 609.5,-123.5 609.5,-123.5 609.5,-117.5 615.5,-111.5 621.5,-111.5 621.5,-111.5 716.5,-111.5 716.5,-111.5 722.5,-111.5 728.5,-117.5 728.5,-123.5 728.5,-123.5 728.5,-167.5 728.5,-167.5 728.5,-173.5 722.5,-179.5 716.5,-179.5\"/>\n<text text-anchor=\"start\" x=\"639.5\" y=\"-164.3\" font-family=\"Helvetica,sans-Serif\" font-size=\"14.00\" fill=\"#000000\">gini = 0.0</text>\n<text text-anchor=\"start\" x=\"629.5\" y=\"-149.3\" font-family=\"Helvetica,sans-Serif\" font-size=\"14.00\" fill=\"#000000\">samples = 2</text>\n<text text-anchor=\"start\" x=\"619.5\" y=\"-134.3\" font-family=\"Helvetica,sans-Serif\" font-size=\"14.00\" fill=\"#000000\">value = [0, 0, 2]</text>\n<text text-anchor=\"start\" x=\"617.5\" y=\"-119.3\" font-family=\"Helvetica,sans-Serif\" font-size=\"14.00\" fill=\"#000000\">class = virginica</text>\n</g>\n<!-- 13&#45;&gt;14 -->\n<g id=\"edge14\" class=\"edge\">\n<title>13&#45;&gt;14</title>\n<path fill=\"none\" stroke=\"#000000\" d=\"M669,-222.8796C669,-212.2134 669,-200.7021 669,-189.9015\"/>\n<polygon fill=\"#000000\" stroke=\"#000000\" points=\"672.5001,-189.8149 669,-179.8149 665.5001,-189.815 672.5001,-189.8149\"/>\n</g>\n<!-- 15 -->\n<g id=\"node16\" class=\"node\">\n<title>15</title>\n<path fill=\"#39e581\" stroke=\"#000000\" d=\"M863,-179.5C863,-179.5 759,-179.5 759,-179.5 753,-179.5 747,-173.5 747,-167.5 747,-167.5 747,-123.5 747,-123.5 747,-117.5 753,-111.5 759,-111.5 759,-111.5 863,-111.5 863,-111.5 869,-111.5 875,-117.5 875,-123.5 875,-123.5 875,-167.5 875,-167.5 875,-173.5 869,-179.5 863,-179.5\"/>\n<text text-anchor=\"start\" x=\"781.5\" y=\"-164.3\" font-family=\"Helvetica,sans-Serif\" font-size=\"14.00\" fill=\"#000000\">gini = 0.0</text>\n<text text-anchor=\"start\" x=\"771.5\" y=\"-149.3\" font-family=\"Helvetica,sans-Serif\" font-size=\"14.00\" fill=\"#000000\">samples = 1</text>\n<text text-anchor=\"start\" x=\"761.5\" y=\"-134.3\" font-family=\"Helvetica,sans-Serif\" font-size=\"14.00\" fill=\"#000000\">value = [0, 1, 0]</text>\n<text text-anchor=\"start\" x=\"755\" y=\"-119.3\" font-family=\"Helvetica,sans-Serif\" font-size=\"14.00\" fill=\"#000000\">class = versicolor</text>\n</g>\n<!-- 13&#45;&gt;15 -->\n<g id=\"edge15\" class=\"edge\">\n<title>13&#45;&gt;15</title>\n<path fill=\"none\" stroke=\"#000000\" d=\"M718.6647,-222.8796C732.8358,-211.0038 748.257,-198.0804 762.3658,-186.2568\"/>\n<polygon fill=\"#000000\" stroke=\"#000000\" points=\"764.6363,-188.9206 770.0528,-179.8149 760.1402,-183.5554 764.6363,-188.9206\"/>\n</g>\n</g>\n</svg>\n"
          },
          "metadata": {
            "tags": []
          },
          "execution_count": 31
        }
      ]
    },
    {
      "metadata": {
        "id": "35y1wraYSi_d",
        "colab_type": "text"
      },
      "cell_type": "markdown",
      "source": [
        "**Regression**"
      ]
    },
    {
      "metadata": {
        "id": "0FuRZ0p1Wda5",
        "colab_type": "text"
      },
      "cell_type": "markdown",
      "source": [
        "[Regression using decision tree](https://www.saedsayad.com/decision_tree_reg.htm)"
      ]
    },
    {
      "metadata": {
        "id": "rIuAOTUhSmsb",
        "colab_type": "code",
        "colab": {
          "base_uri": "https://localhost:8080/",
          "height": 34
        },
        "outputId": "c7ac62b7-84f8-4afe-f18d-a3d751bc5608"
      },
      "cell_type": "code",
      "source": [
        "from sklearn import tree\n",
        "X = [[0, 0], [2, 2]]\n",
        "y = [0.5, 2.5]\n",
        "clf = tree.DecisionTreeRegressor()\n",
        "clf = clf.fit(X, y)\n",
        "clf.predict([[1, 1]])"
      ],
      "execution_count": 32,
      "outputs": [
        {
          "output_type": "execute_result",
          "data": {
            "text/plain": [
              "array([0.5])"
            ]
          },
          "metadata": {
            "tags": []
          },
          "execution_count": 32
        }
      ]
    },
    {
      "metadata": {
        "id": "qXlQONRpYlaZ",
        "colab_type": "text"
      },
      "cell_type": "markdown",
      "source": [
        "[tips to use DT](https://scikit-learn.org/stable/modules/tree.html#tips-on-practical-use)"
      ]
    }
  ]
}