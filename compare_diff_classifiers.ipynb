{
  "nbformat": 4,
  "nbformat_minor": 0,
  "metadata": {
    "colab": {
      "name": "compare_diff_classifiers.ipynb",
      "version": "0.3.2",
      "provenance": [],
      "collapsed_sections": [],
      "include_colab_link": true
    },
    "kernelspec": {
      "name": "python3",
      "display_name": "Python 3"
    }
  },
  "cells": [
    {
      "cell_type": "markdown",
      "metadata": {
        "id": "view-in-github",
        "colab_type": "text"
      },
      "source": [
        "<a href=\"https://colab.research.google.com/github/kundan111/ML_Basic/blob/master/compare_diff_classifiers.ipynb\" target=\"_parent\"><img src=\"https://colab.research.google.com/assets/colab-badge.svg\" alt=\"Open In Colab\"/></a>"
      ]
    },
    {
      "metadata": {
        "id": "HTYXGn65o-5d",
        "colab_type": "text"
      },
      "cell_type": "markdown",
      "source": [
        "# **Comapre different ML algorithms and compare their accuracy using Sklearn**"
      ]
    },
    {
      "metadata": {
        "id": "NBAWOUw_pOeS",
        "colab_type": "text"
      },
      "cell_type": "markdown",
      "source": [
        "**Import all dependencies **"
      ]
    },
    {
      "metadata": {
        "id": "RIB76bpqo63N",
        "colab_type": "code",
        "colab": {}
      },
      "cell_type": "code",
      "source": [
        "from sklearn import tree #for decision tree\n",
        "from sklearn.svm import SVC #for svm classifier \n",
        "from sklearn.linear_model import Perceptron #for perceptron unit \n",
        "from sklearn.neighbors import KNeighborsClassifier #for KNN\n",
        "from sklearn.metrics import accuracy_score #for accuracy measurement\n",
        "import numpy as np\n"
      ],
      "execution_count": 0,
      "outputs": []
    },
    {
      "metadata": {
        "id": "7YrCJznlvY1N",
        "colab_type": "text"
      },
      "cell_type": "markdown",
      "source": [
        " ![alt text](https://cdn-images-1.medium.com/max/800/1*yRa2inzTnyASJOre93ep3g.gif)"
      ]
    },
    {
      "metadata": {
        "id": "nBfG8V2wqmJn",
        "colab_type": "text"
      },
      "cell_type": "markdown",
      "source": [
        "**Data and given output**"
      ]
    },
    {
      "metadata": {
        "id": "Fsyou8wRqxPv",
        "colab_type": "code",
        "colab": {}
      },
      "cell_type": "code",
      "source": [
        "X = [[181, 80, 44], [177, 70, 43], [160, 60, 38], [154, 54, 37], [166, 65, 40], [190, 90, 47], [175, 64, 39],\n",
        "     [177, 70, 40], [159, 55, 37], [171, 75, 42], [181, 85, 43]]\n",
        "Y = ['male', 'male', 'female', 'female', 'male', 'male', 'female', 'female', 'female', 'male', 'male']"
      ],
      "execution_count": 0,
      "outputs": []
    },
    {
      "metadata": {
        "id": "2k5BH4UQrPIP",
        "colab_type": "text"
      },
      "cell_type": "markdown",
      "source": [
        "**Creating Classifiers **"
      ]
    },
    {
      "metadata": {
        "id": "_Y4ecH3Cqjl7",
        "colab_type": "code",
        "colab": {}
      },
      "cell_type": "code",
      "source": [
        "clf_tree = tree.DecisionTreeClassifier()\n",
        "clf_svm = SVC()\n",
        "clf_perceptron = Perceptron()\n",
        "clf_KNN = KNeighborsClassifier()"
      ],
      "execution_count": 0,
      "outputs": []
    },
    {
      "metadata": {
        "id": "qtxoQ-PDsRv4",
        "colab_type": "text"
      },
      "cell_type": "markdown",
      "source": [
        "**Training the models**"
      ]
    },
    {
      "metadata": {
        "id": "1Z2SWWWvsTT-",
        "colab_type": "code",
        "colab": {
          "base_uri": "https://localhost:8080/",
          "height": 156
        },
        "outputId": "49942321-9069-4379-8d26-e7ffc7fa52f8"
      },
      "cell_type": "code",
      "source": [
        "clf_tree.fit(X, Y)\n",
        "clf_svm.fit(X, Y)\n",
        "clf_perceptron.fit(X, Y)\n",
        "clf_KNN.fit(X, Y)"
      ],
      "execution_count": 36,
      "outputs": [
        {
          "output_type": "stream",
          "text": [
            "/usr/local/lib/python3.6/dist-packages/sklearn/svm/base.py:196: FutureWarning: The default value of gamma will change from 'auto' to 'scale' in version 0.22 to account better for unscaled features. Set gamma explicitly to 'auto' or 'scale' to avoid this warning.\n",
            "  \"avoid this warning.\", FutureWarning)\n",
            "/usr/local/lib/python3.6/dist-packages/sklearn/linear_model/stochastic_gradient.py:166: FutureWarning: max_iter and tol parameters have been added in Perceptron in 0.19. If both are left unset, they default to max_iter=5 and tol=None. If tol is not None, max_iter defaults to max_iter=1000. From 0.21, default max_iter will be 1000, and default tol will be 1e-3.\n",
            "  FutureWarning)\n"
          ],
          "name": "stderr"
        },
        {
          "output_type": "execute_result",
          "data": {
            "text/plain": [
              "KNeighborsClassifier(algorithm='auto', leaf_size=30, metric='minkowski',\n",
              "           metric_params=None, n_jobs=None, n_neighbors=5, p=2,\n",
              "           weights='uniform')"
            ]
          },
          "metadata": {
            "tags": []
          },
          "execution_count": 36
        }
      ]
    },
    {
      "metadata": {
        "id": "QKbF3aP3tJgA",
        "colab_type": "text"
      },
      "cell_type": "markdown",
      "source": [
        "**Testing using the same data**"
      ]
    },
    {
      "metadata": {
        "id": "E4dwczfptLLH",
        "colab_type": "code",
        "colab": {
          "base_uri": "https://localhost:8080/",
          "height": 34
        },
        "outputId": "1c64b234-d0dc-48e6-8f47-10d982063f4d"
      },
      "cell_type": "code",
      "source": [
        "pred_tree = clf_tree.predict(X)\n",
        "acc_tree = accuracy_score(Y, pred_tree) * 100\n",
        "print('Accuracy for DecisionTree: {}'.format(acc_tree))\n"
      ],
      "execution_count": 37,
      "outputs": [
        {
          "output_type": "stream",
          "text": [
            "Accuracy for DecisionTree: 100.0\n"
          ],
          "name": "stdout"
        }
      ]
    },
    {
      "metadata": {
        "id": "q3i17PixtawP",
        "colab_type": "code",
        "colab": {
          "base_uri": "https://localhost:8080/",
          "height": 34
        },
        "outputId": "53376640-914d-4e54-d864-366b65df92c7"
      },
      "cell_type": "code",
      "source": [
        "pred_svm = clf_svm.predict(X)\n",
        "acc_svm = accuracy_score(Y, pred_svm) * 100\n",
        "print('Accuracy for SVM: {}'.format(acc_svm))"
      ],
      "execution_count": 38,
      "outputs": [
        {
          "output_type": "stream",
          "text": [
            "Accuracy for SVM: 100.0\n"
          ],
          "name": "stdout"
        }
      ]
    },
    {
      "metadata": {
        "id": "XhR3cPZNsXVZ",
        "colab_type": "code",
        "colab": {
          "base_uri": "https://localhost:8080/",
          "height": 34
        },
        "outputId": "2ad2b3a7-dbc9-4b13-98db-361122dd5c75"
      },
      "cell_type": "code",
      "source": [
        "pred_per = clf_perceptron.predict(X)\n",
        "acc_per = accuracy_score(Y, pred_per) * 100\n",
        "print('Accuracy for perceptron: {}'.format(acc_per))"
      ],
      "execution_count": 39,
      "outputs": [
        {
          "output_type": "stream",
          "text": [
            "Accuracy for perceptron: 54.54545454545454\n"
          ],
          "name": "stdout"
        }
      ]
    },
    {
      "metadata": {
        "id": "DQM-gnRLt6E-",
        "colab_type": "code",
        "colab": {
          "base_uri": "https://localhost:8080/",
          "height": 68
        },
        "outputId": "c85f6826-f3f8-4a00-ae0f-d68faf5b8489"
      },
      "cell_type": "code",
      "source": [
        "pred_KNN = clf_KNN.predict(X)\n",
        "print(pred_KNN)\n",
        "acc_KNN = accuracy_score(Y, pred_KNN) * 100\n",
        "print('Accuracy for KNN: {}'.format(acc_KNN))\n"
      ],
      "execution_count": 40,
      "outputs": [
        {
          "output_type": "stream",
          "text": [
            "['male' 'male' 'female' 'female' 'female' 'male' 'male' 'male' 'female'\n",
            " 'male' 'male']\n",
            "Accuracy for KNN: 72.72727272727273\n"
          ],
          "name": "stdout"
        }
      ]
    },
    {
      "metadata": {
        "id": "6ynll3q_t9cl",
        "colab_type": "text"
      },
      "cell_type": "markdown",
      "source": [
        "**Comapare all classifiers **"
      ]
    },
    {
      "metadata": {
        "id": "f1inlVU5uEm3",
        "colab_type": "code",
        "colab": {
          "base_uri": "https://localhost:8080/",
          "height": 34
        },
        "outputId": "872b8704-95c3-464d-a47a-bdbf3b801bbc"
      },
      "cell_type": "code",
      "source": [
        "index = np.argmax([acc_svm, acc_per, acc_KNN])\n",
        "classifiers = {0: 'SVM', 1: 'Perceptron', 2: 'KNN'}\n",
        "print('Best gender classifier is {}'.format(classifiers[index]))"
      ],
      "execution_count": 41,
      "outputs": [
        {
          "output_type": "stream",
          "text": [
            "Best gender classifier is SVM\n"
          ],
          "name": "stdout"
        }
      ]
    }
  ]
}